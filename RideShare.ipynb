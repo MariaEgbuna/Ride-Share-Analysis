{
 "cells": [
  {
   "cell_type": "markdown",
   "id": "d6a1129c",
   "metadata": {},
   "source": [
    "## Importing libraries and dataset"
   ]
  },
  {
   "cell_type": "code",
   "execution_count": 2,
   "id": "e16b0c28",
   "metadata": {},
   "outputs": [
    {
     "data": {
      "text/html": [
       "<svg  width=\"440\" height=\"55\"><rect x=\"0\" y=\"0\" width=\"55\" height=\"55\" style=\"fill:#66c2a5;stroke-width:2;stroke:rgb(255,255,255)\"/><rect x=\"55\" y=\"0\" width=\"55\" height=\"55\" style=\"fill:#fc8d62;stroke-width:2;stroke:rgb(255,255,255)\"/><rect x=\"110\" y=\"0\" width=\"55\" height=\"55\" style=\"fill:#8da0cb;stroke-width:2;stroke:rgb(255,255,255)\"/><rect x=\"165\" y=\"0\" width=\"55\" height=\"55\" style=\"fill:#e78ac3;stroke-width:2;stroke:rgb(255,255,255)\"/><rect x=\"220\" y=\"0\" width=\"55\" height=\"55\" style=\"fill:#a6d854;stroke-width:2;stroke:rgb(255,255,255)\"/><rect x=\"275\" y=\"0\" width=\"55\" height=\"55\" style=\"fill:#ffd92f;stroke-width:2;stroke:rgb(255,255,255)\"/><rect x=\"330\" y=\"0\" width=\"55\" height=\"55\" style=\"fill:#e5c494;stroke-width:2;stroke:rgb(255,255,255)\"/><rect x=\"385\" y=\"0\" width=\"55\" height=\"55\" style=\"fill:#b3b3b3;stroke-width:2;stroke:rgb(255,255,255)\"/></svg>"
      ],
      "text/plain": [
       "[(0.4, 0.7607843137254902, 0.6470588235294118),\n",
       " (0.9882352941176471, 0.5529411764705883, 0.3843137254901961),\n",
       " (0.5529411764705883, 0.6274509803921569, 0.796078431372549),\n",
       " (0.9058823529411765, 0.5411764705882353, 0.7647058823529411),\n",
       " (0.6509803921568628, 0.8470588235294118, 0.32941176470588235),\n",
       " (1.0, 0.8509803921568627, 0.1843137254901961),\n",
       " (0.8980392156862745, 0.7686274509803922, 0.5803921568627451),\n",
       " (0.7019607843137254, 0.7019607843137254, 0.7019607843137254)]"
      ]
     },
     "execution_count": 2,
     "metadata": {},
     "output_type": "execute_result"
    }
   ],
   "source": [
    "import pandas as pd\n",
    "import numpy as np\n",
    "import matplotlib.pyplot as plt\n",
    "import seaborn as sns\n",
    "sns.set_style(\"whitegrid\")\n",
    "sns.color_palette(\"Set2\")"
   ]
  },
  {
   "cell_type": "code",
   "execution_count": 3,
   "id": "00ca9849",
   "metadata": {},
   "outputs": [],
   "source": [
    "# Importing the dataset\n",
    "RideShare = pd.read_csv(\n",
    "    \"Dataset/Ride Sharing Data.csv\",\n",
    "    parse_dates= [\"Ride DateTime\"]\n",
    ")"
   ]
  },
  {
   "cell_type": "markdown",
   "id": "9f0d3bbb",
   "metadata": {},
   "source": [
    "## Dataset Overview"
   ]
  },
  {
   "cell_type": "code",
   "execution_count": 4,
   "id": "2103708b",
   "metadata": {},
   "outputs": [
    {
     "data": {
      "text/html": [
       "<div>\n",
       "<style scoped>\n",
       "    .dataframe tbody tr th:only-of-type {\n",
       "        vertical-align: middle;\n",
       "    }\n",
       "\n",
       "    .dataframe tbody tr th {\n",
       "        vertical-align: top;\n",
       "    }\n",
       "\n",
       "    .dataframe thead th {\n",
       "        text-align: right;\n",
       "    }\n",
       "</style>\n",
       "<table border=\"1\" class=\"dataframe\">\n",
       "  <thead>\n",
       "    <tr style=\"text-align: right;\">\n",
       "      <th></th>\n",
       "      <th>Ride ID</th>\n",
       "      <th>User ID</th>\n",
       "      <th>Driver ID</th>\n",
       "      <th>Ride DateTime</th>\n",
       "      <th>Pickup Location</th>\n",
       "      <th>Dropoff Location</th>\n",
       "      <th>Distance(km)</th>\n",
       "      <th>Ride Duration(min)</th>\n",
       "      <th>Fare Amount</th>\n",
       "      <th>Payment Method</th>\n",
       "      <th>Ride Status</th>\n",
       "      <th>User Rating</th>\n",
       "      <th>Driver Rating</th>\n",
       "      <th>Surge Pricing</th>\n",
       "      <th>Promo Code Used</th>\n",
       "      <th>Vehicle Type</th>\n",
       "      <th>Weather Condition</th>\n",
       "      <th>Traffic Level</th>\n",
       "      <th>Driver Experience Years</th>\n",
       "      <th>User Type</th>\n",
       "    </tr>\n",
       "  </thead>\n",
       "  <tbody>\n",
       "    <tr>\n",
       "      <th>0</th>\n",
       "      <td>R000001</td>\n",
       "      <td>U8270</td>\n",
       "      <td>D464</td>\n",
       "      <td>2024-04-01 17:18:00</td>\n",
       "      <td>Financial District</td>\n",
       "      <td>Midtown</td>\n",
       "      <td>30.86</td>\n",
       "      <td>85</td>\n",
       "      <td>96.59</td>\n",
       "      <td>Mobile Wallet</td>\n",
       "      <td>Completed</td>\n",
       "      <td>4.9</td>\n",
       "      <td>4.9</td>\n",
       "      <td>Yes</td>\n",
       "      <td>Yes</td>\n",
       "      <td>SUV</td>\n",
       "      <td>Clear</td>\n",
       "      <td>Low</td>\n",
       "      <td>1</td>\n",
       "      <td>Frequent</td>\n",
       "    </tr>\n",
       "    <tr>\n",
       "      <th>1</th>\n",
       "      <td>R000002</td>\n",
       "      <td>U1860</td>\n",
       "      <td>D676</td>\n",
       "      <td>2024-02-01 11:24:00</td>\n",
       "      <td>Mall</td>\n",
       "      <td>Financial District</td>\n",
       "      <td>19.24</td>\n",
       "      <td>60</td>\n",
       "      <td>75.84</td>\n",
       "      <td>Credit Card</td>\n",
       "      <td>Completed</td>\n",
       "      <td>3.3</td>\n",
       "      <td>3.9</td>\n",
       "      <td>No</td>\n",
       "      <td>Yes</td>\n",
       "      <td>Sedan</td>\n",
       "      <td>Rainy</td>\n",
       "      <td>Medium</td>\n",
       "      <td>7</td>\n",
       "      <td>New</td>\n",
       "    </tr>\n",
       "    <tr>\n",
       "      <th>2</th>\n",
       "      <td>R000003</td>\n",
       "      <td>U6390</td>\n",
       "      <td>D425</td>\n",
       "      <td>2024-07-01 00:38:00</td>\n",
       "      <td>Suburbs</td>\n",
       "      <td>University</td>\n",
       "      <td>2.27</td>\n",
       "      <td>9</td>\n",
       "      <td>11.16</td>\n",
       "      <td>Credit Card</td>\n",
       "      <td>Completed</td>\n",
       "      <td>4.5</td>\n",
       "      <td>3.7</td>\n",
       "      <td>No</td>\n",
       "      <td>Yes</td>\n",
       "      <td>Motorcycle</td>\n",
       "      <td>Clear</td>\n",
       "      <td>High</td>\n",
       "      <td>1</td>\n",
       "      <td>New</td>\n",
       "    </tr>\n",
       "    <tr>\n",
       "      <th>3</th>\n",
       "      <td>R000004</td>\n",
       "      <td>U6191</td>\n",
       "      <td>D680</td>\n",
       "      <td>2024-07-01 16:19:00</td>\n",
       "      <td>Suburbs</td>\n",
       "      <td>Airport</td>\n",
       "      <td>22.87</td>\n",
       "      <td>55</td>\n",
       "      <td>77.68</td>\n",
       "      <td>Cash</td>\n",
       "      <td>Completed</td>\n",
       "      <td>3.3</td>\n",
       "      <td>4.9</td>\n",
       "      <td>No</td>\n",
       "      <td>No</td>\n",
       "      <td>SUV</td>\n",
       "      <td>Foggy</td>\n",
       "      <td>Low</td>\n",
       "      <td>6</td>\n",
       "      <td>Returning</td>\n",
       "    </tr>\n",
       "    <tr>\n",
       "      <th>4</th>\n",
       "      <td>R000005</td>\n",
       "      <td>U6734</td>\n",
       "      <td>D732</td>\n",
       "      <td>2024-02-01 21:27:00</td>\n",
       "      <td>Midtown</td>\n",
       "      <td>Downtown</td>\n",
       "      <td>18.59</td>\n",
       "      <td>42</td>\n",
       "      <td>66.59</td>\n",
       "      <td>Cash</td>\n",
       "      <td>No-show</td>\n",
       "      <td>2.8</td>\n",
       "      <td>2.6</td>\n",
       "      <td>No</td>\n",
       "      <td>No</td>\n",
       "      <td>Sedan</td>\n",
       "      <td>Clear</td>\n",
       "      <td>Low</td>\n",
       "      <td>9</td>\n",
       "      <td>New</td>\n",
       "    </tr>\n",
       "    <tr>\n",
       "      <th>...</th>\n",
       "      <td>...</td>\n",
       "      <td>...</td>\n",
       "      <td>...</td>\n",
       "      <td>...</td>\n",
       "      <td>...</td>\n",
       "      <td>...</td>\n",
       "      <td>...</td>\n",
       "      <td>...</td>\n",
       "      <td>...</td>\n",
       "      <td>...</td>\n",
       "      <td>...</td>\n",
       "      <td>...</td>\n",
       "      <td>...</td>\n",
       "      <td>...</td>\n",
       "      <td>...</td>\n",
       "      <td>...</td>\n",
       "      <td>...</td>\n",
       "      <td>...</td>\n",
       "      <td>...</td>\n",
       "      <td>...</td>\n",
       "    </tr>\n",
       "    <tr>\n",
       "      <th>9995</th>\n",
       "      <td>R009996</td>\n",
       "      <td>U1581</td>\n",
       "      <td>D369</td>\n",
       "      <td>2024-01-01 16:51:00</td>\n",
       "      <td>Financial District</td>\n",
       "      <td>Downtown</td>\n",
       "      <td>30.49</td>\n",
       "      <td>86</td>\n",
       "      <td>97.27</td>\n",
       "      <td>Credit Card</td>\n",
       "      <td>Completed</td>\n",
       "      <td>4.2</td>\n",
       "      <td>4.3</td>\n",
       "      <td>Yes</td>\n",
       "      <td>No</td>\n",
       "      <td>Sedan</td>\n",
       "      <td>Clear</td>\n",
       "      <td>Low</td>\n",
       "      <td>9</td>\n",
       "      <td>New</td>\n",
       "    </tr>\n",
       "    <tr>\n",
       "      <th>9996</th>\n",
       "      <td>R009997</td>\n",
       "      <td>U4881</td>\n",
       "      <td>D494</td>\n",
       "      <td>2024-06-01 13:13:00</td>\n",
       "      <td>Midtown</td>\n",
       "      <td>Airport</td>\n",
       "      <td>33.97</td>\n",
       "      <td>92</td>\n",
       "      <td>98.23</td>\n",
       "      <td>Cash</td>\n",
       "      <td>Completed</td>\n",
       "      <td>4.0</td>\n",
       "      <td>3.6</td>\n",
       "      <td>No</td>\n",
       "      <td>No</td>\n",
       "      <td>Sedan</td>\n",
       "      <td>Clear</td>\n",
       "      <td>Low</td>\n",
       "      <td>8</td>\n",
       "      <td>Returning</td>\n",
       "    </tr>\n",
       "    <tr>\n",
       "      <th>9997</th>\n",
       "      <td>R009998</td>\n",
       "      <td>U4909</td>\n",
       "      <td>D954</td>\n",
       "      <td>2024-02-01 20:07:00</td>\n",
       "      <td>Suburbs</td>\n",
       "      <td>Midtown</td>\n",
       "      <td>3.89</td>\n",
       "      <td>8</td>\n",
       "      <td>20.28</td>\n",
       "      <td>Cash</td>\n",
       "      <td>Completed</td>\n",
       "      <td>3.9</td>\n",
       "      <td>4.3</td>\n",
       "      <td>No</td>\n",
       "      <td>No</td>\n",
       "      <td>Electric</td>\n",
       "      <td>Clear</td>\n",
       "      <td>High</td>\n",
       "      <td>10</td>\n",
       "      <td>Returning</td>\n",
       "    </tr>\n",
       "    <tr>\n",
       "      <th>9998</th>\n",
       "      <td>R009999</td>\n",
       "      <td>U2999</td>\n",
       "      <td>D261</td>\n",
       "      <td>2024-01-01 23:59:00</td>\n",
       "      <td>University</td>\n",
       "      <td>Airport</td>\n",
       "      <td>27.42</td>\n",
       "      <td>71</td>\n",
       "      <td>89.08</td>\n",
       "      <td>Credit Card</td>\n",
       "      <td>Completed</td>\n",
       "      <td>3.7</td>\n",
       "      <td>4.0</td>\n",
       "      <td>No</td>\n",
       "      <td>No</td>\n",
       "      <td>Electric</td>\n",
       "      <td>Clear</td>\n",
       "      <td>Medium</td>\n",
       "      <td>9</td>\n",
       "      <td>New</td>\n",
       "    </tr>\n",
       "    <tr>\n",
       "      <th>9999</th>\n",
       "      <td>R010000</td>\n",
       "      <td>U1400</td>\n",
       "      <td>D799</td>\n",
       "      <td>2024-06-01 20:08:00</td>\n",
       "      <td>Suburbs</td>\n",
       "      <td>Midtown</td>\n",
       "      <td>9.78</td>\n",
       "      <td>36</td>\n",
       "      <td>34.68</td>\n",
       "      <td>Credit Card</td>\n",
       "      <td>Completed</td>\n",
       "      <td>4.6</td>\n",
       "      <td>3.3</td>\n",
       "      <td>No</td>\n",
       "      <td>No</td>\n",
       "      <td>Sedan</td>\n",
       "      <td>Clear</td>\n",
       "      <td>Medium</td>\n",
       "      <td>1</td>\n",
       "      <td>Frequent</td>\n",
       "    </tr>\n",
       "  </tbody>\n",
       "</table>\n",
       "<p>10000 rows × 20 columns</p>\n",
       "</div>"
      ],
      "text/plain": [
       "      Ride ID User ID Driver ID       Ride DateTime     Pickup Location  \\\n",
       "0     R000001   U8270      D464 2024-04-01 17:18:00  Financial District   \n",
       "1     R000002   U1860      D676 2024-02-01 11:24:00                Mall   \n",
       "2     R000003   U6390      D425 2024-07-01 00:38:00             Suburbs   \n",
       "3     R000004   U6191      D680 2024-07-01 16:19:00             Suburbs   \n",
       "4     R000005   U6734      D732 2024-02-01 21:27:00             Midtown   \n",
       "...       ...     ...       ...                 ...                 ...   \n",
       "9995  R009996   U1581      D369 2024-01-01 16:51:00  Financial District   \n",
       "9996  R009997   U4881      D494 2024-06-01 13:13:00             Midtown   \n",
       "9997  R009998   U4909      D954 2024-02-01 20:07:00             Suburbs   \n",
       "9998  R009999   U2999      D261 2024-01-01 23:59:00          University   \n",
       "9999  R010000   U1400      D799 2024-06-01 20:08:00             Suburbs   \n",
       "\n",
       "        Dropoff Location  Distance(km)  Ride Duration(min)  Fare Amount  \\\n",
       "0                Midtown         30.86                  85        96.59   \n",
       "1     Financial District         19.24                  60        75.84   \n",
       "2             University          2.27                   9        11.16   \n",
       "3                Airport         22.87                  55        77.68   \n",
       "4               Downtown         18.59                  42        66.59   \n",
       "...                  ...           ...                 ...          ...   \n",
       "9995            Downtown         30.49                  86        97.27   \n",
       "9996             Airport         33.97                  92        98.23   \n",
       "9997             Midtown          3.89                   8        20.28   \n",
       "9998             Airport         27.42                  71        89.08   \n",
       "9999             Midtown          9.78                  36        34.68   \n",
       "\n",
       "     Payment Method Ride Status  User Rating  Driver Rating Surge Pricing  \\\n",
       "0     Mobile Wallet   Completed          4.9            4.9           Yes   \n",
       "1       Credit Card   Completed          3.3            3.9            No   \n",
       "2       Credit Card   Completed          4.5            3.7            No   \n",
       "3              Cash   Completed          3.3            4.9            No   \n",
       "4              Cash     No-show          2.8            2.6            No   \n",
       "...             ...         ...          ...            ...           ...   \n",
       "9995    Credit Card   Completed          4.2            4.3           Yes   \n",
       "9996           Cash   Completed          4.0            3.6            No   \n",
       "9997           Cash   Completed          3.9            4.3            No   \n",
       "9998    Credit Card   Completed          3.7            4.0            No   \n",
       "9999    Credit Card   Completed          4.6            3.3            No   \n",
       "\n",
       "     Promo Code Used Vehicle Type Weather Condition Traffic Level  \\\n",
       "0                Yes          SUV             Clear           Low   \n",
       "1                Yes        Sedan             Rainy        Medium   \n",
       "2                Yes   Motorcycle             Clear          High   \n",
       "3                 No          SUV             Foggy           Low   \n",
       "4                 No        Sedan             Clear           Low   \n",
       "...              ...          ...               ...           ...   \n",
       "9995              No        Sedan             Clear           Low   \n",
       "9996              No        Sedan             Clear           Low   \n",
       "9997              No     Electric             Clear          High   \n",
       "9998              No     Electric             Clear        Medium   \n",
       "9999              No        Sedan             Clear        Medium   \n",
       "\n",
       "      Driver Experience Years  User Type  \n",
       "0                           1   Frequent  \n",
       "1                           7        New  \n",
       "2                           1        New  \n",
       "3                           6  Returning  \n",
       "4                           9        New  \n",
       "...                       ...        ...  \n",
       "9995                        9        New  \n",
       "9996                        8  Returning  \n",
       "9997                       10  Returning  \n",
       "9998                        9        New  \n",
       "9999                        1   Frequent  \n",
       "\n",
       "[10000 rows x 20 columns]"
      ]
     },
     "execution_count": 4,
     "metadata": {},
     "output_type": "execute_result"
    }
   ],
   "source": [
    "RideShare"
   ]
  },
  {
   "cell_type": "code",
   "execution_count": 5,
   "id": "1247bb35",
   "metadata": {},
   "outputs": [
    {
     "name": "stdout",
     "output_type": "stream",
     "text": [
      "<class 'pandas.core.frame.DataFrame'>\n",
      "RangeIndex: 10000 entries, 0 to 9999\n",
      "Data columns (total 20 columns):\n",
      " #   Column                   Non-Null Count  Dtype         \n",
      "---  ------                   --------------  -----         \n",
      " 0   Ride ID                  10000 non-null  object        \n",
      " 1   User ID                  10000 non-null  object        \n",
      " 2   Driver ID                10000 non-null  object        \n",
      " 3   Ride DateTime            10000 non-null  datetime64[ns]\n",
      " 4   Pickup Location          10000 non-null  object        \n",
      " 5   Dropoff Location         10000 non-null  object        \n",
      " 6   Distance(km)             10000 non-null  float64       \n",
      " 7   Ride Duration(min)       10000 non-null  int64         \n",
      " 8   Fare Amount              10000 non-null  float64       \n",
      " 9   Payment Method           10000 non-null  object        \n",
      " 10  Ride Status              10000 non-null  object        \n",
      " 11  User Rating              10000 non-null  float64       \n",
      " 12  Driver Rating            10000 non-null  float64       \n",
      " 13  Surge Pricing            10000 non-null  object        \n",
      " 14  Promo Code Used          10000 non-null  object        \n",
      " 15  Vehicle Type             10000 non-null  object        \n",
      " 16  Weather Condition        10000 non-null  object        \n",
      " 17  Traffic Level            10000 non-null  object        \n",
      " 18  Driver Experience Years  10000 non-null  int64         \n",
      " 19  User Type                10000 non-null  object        \n",
      "dtypes: datetime64[ns](1), float64(4), int64(2), object(13)\n",
      "memory usage: 1.5+ MB\n"
     ]
    }
   ],
   "source": [
    "# Columns names and their data types \n",
    "RideShare.info()"
   ]
  },
  {
   "cell_type": "code",
   "execution_count": 6,
   "id": "31ea3cd6",
   "metadata": {},
   "outputs": [
    {
     "data": {
      "text/html": [
       "<div>\n",
       "<style scoped>\n",
       "    .dataframe tbody tr th:only-of-type {\n",
       "        vertical-align: middle;\n",
       "    }\n",
       "\n",
       "    .dataframe tbody tr th {\n",
       "        vertical-align: top;\n",
       "    }\n",
       "\n",
       "    .dataframe thead th {\n",
       "        text-align: right;\n",
       "    }\n",
       "</style>\n",
       "<table border=\"1\" class=\"dataframe\">\n",
       "  <thead>\n",
       "    <tr style=\"text-align: right;\">\n",
       "      <th></th>\n",
       "      <th>Ride DateTime</th>\n",
       "      <th>Distance(km)</th>\n",
       "      <th>Ride Duration(min)</th>\n",
       "      <th>Fare Amount</th>\n",
       "      <th>User Rating</th>\n",
       "      <th>Driver Rating</th>\n",
       "      <th>Driver Experience Years</th>\n",
       "    </tr>\n",
       "  </thead>\n",
       "  <tbody>\n",
       "    <tr>\n",
       "      <th>count</th>\n",
       "      <td>10000</td>\n",
       "      <td>10000.00</td>\n",
       "      <td>10000.00</td>\n",
       "      <td>10000.00</td>\n",
       "      <td>10000.00</td>\n",
       "      <td>10000.00</td>\n",
       "      <td>10000.00</td>\n",
       "    </tr>\n",
       "    <tr>\n",
       "      <th>mean</th>\n",
       "      <td>2024-03-31 18:25:44.400000</td>\n",
       "      <td>17.99</td>\n",
       "      <td>54.03</td>\n",
       "      <td>60.09</td>\n",
       "      <td>3.73</td>\n",
       "      <td>3.73</td>\n",
       "      <td>5.51</td>\n",
       "    </tr>\n",
       "    <tr>\n",
       "      <th>min</th>\n",
       "      <td>2024-01-01 00:00:00</td>\n",
       "      <td>1.00</td>\n",
       "      <td>2.00</td>\n",
       "      <td>4.91</td>\n",
       "      <td>1.00</td>\n",
       "      <td>1.00</td>\n",
       "      <td>1.00</td>\n",
       "    </tr>\n",
       "    <tr>\n",
       "      <th>25%</th>\n",
       "      <td>2024-02-01 17:39:45</td>\n",
       "      <td>9.65</td>\n",
       "      <td>28.00</td>\n",
       "      <td>34.71</td>\n",
       "      <td>3.30</td>\n",
       "      <td>3.30</td>\n",
       "      <td>3.00</td>\n",
       "    </tr>\n",
       "    <tr>\n",
       "      <th>50%</th>\n",
       "      <td>2024-04-01 11:19:30</td>\n",
       "      <td>18.09</td>\n",
       "      <td>52.00</td>\n",
       "      <td>59.86</td>\n",
       "      <td>3.80</td>\n",
       "      <td>3.80</td>\n",
       "      <td>6.00</td>\n",
       "    </tr>\n",
       "    <tr>\n",
       "      <th>75%</th>\n",
       "      <td>2024-06-01 04:59:15</td>\n",
       "      <td>26.40</td>\n",
       "      <td>77.00</td>\n",
       "      <td>84.59</td>\n",
       "      <td>4.40</td>\n",
       "      <td>4.40</td>\n",
       "      <td>8.00</td>\n",
       "    </tr>\n",
       "    <tr>\n",
       "      <th>max</th>\n",
       "      <td>2024-07-01 22:39:00</td>\n",
       "      <td>35.00</td>\n",
       "      <td>139.00</td>\n",
       "      <td>128.75</td>\n",
       "      <td>5.00</td>\n",
       "      <td>5.00</td>\n",
       "      <td>10.00</td>\n",
       "    </tr>\n",
       "    <tr>\n",
       "      <th>std</th>\n",
       "      <td>NaN</td>\n",
       "      <td>9.77</td>\n",
       "      <td>31.65</td>\n",
       "      <td>30.12</td>\n",
       "      <td>0.87</td>\n",
       "      <td>0.87</td>\n",
       "      <td>2.86</td>\n",
       "    </tr>\n",
       "  </tbody>\n",
       "</table>\n",
       "</div>"
      ],
      "text/plain": [
       "                    Ride DateTime  Distance(km)  Ride Duration(min)  \\\n",
       "count                       10000      10000.00            10000.00   \n",
       "mean   2024-03-31 18:25:44.400000         17.99               54.03   \n",
       "min           2024-01-01 00:00:00          1.00                2.00   \n",
       "25%           2024-02-01 17:39:45          9.65               28.00   \n",
       "50%           2024-04-01 11:19:30         18.09               52.00   \n",
       "75%           2024-06-01 04:59:15         26.40               77.00   \n",
       "max           2024-07-01 22:39:00         35.00              139.00   \n",
       "std                           NaN          9.77               31.65   \n",
       "\n",
       "       Fare Amount  User Rating  Driver Rating  Driver Experience Years  \n",
       "count     10000.00     10000.00       10000.00                 10000.00  \n",
       "mean         60.09         3.73           3.73                     5.51  \n",
       "min           4.91         1.00           1.00                     1.00  \n",
       "25%          34.71         3.30           3.30                     3.00  \n",
       "50%          59.86         3.80           3.80                     6.00  \n",
       "75%          84.59         4.40           4.40                     8.00  \n",
       "max         128.75         5.00           5.00                    10.00  \n",
       "std          30.12         0.87           0.87                     2.86  "
      ]
     },
     "execution_count": 6,
     "metadata": {},
     "output_type": "execute_result"
    }
   ],
   "source": [
    "# Description of the numerical features in the dataset\n",
    "RideShare.describe().round(2)"
   ]
  },
  {
   "cell_type": "code",
   "execution_count": 7,
   "id": "90dc7abf",
   "metadata": {},
   "outputs": [
    {
     "data": {
      "text/plain": [
       "Ride ID                    0\n",
       "User ID                    0\n",
       "Driver ID                  0\n",
       "Ride DateTime              0\n",
       "Pickup Location            0\n",
       "Dropoff Location           0\n",
       "Distance(km)               0\n",
       "Ride Duration(min)         0\n",
       "Fare Amount                0\n",
       "Payment Method             0\n",
       "Ride Status                0\n",
       "User Rating                0\n",
       "Driver Rating              0\n",
       "Surge Pricing              0\n",
       "Promo Code Used            0\n",
       "Vehicle Type               0\n",
       "Weather Condition          0\n",
       "Traffic Level              0\n",
       "Driver Experience Years    0\n",
       "User Type                  0\n",
       "dtype: int64"
      ]
     },
     "execution_count": 7,
     "metadata": {},
     "output_type": "execute_result"
    }
   ],
   "source": [
    "# Checking for missing values\n",
    "RideShare.isnull().sum()"
   ]
  },
  {
   "cell_type": "code",
   "execution_count": 8,
   "id": "6e69bb5f",
   "metadata": {},
   "outputs": [],
   "source": [
    "# Dropping duplicate rows\n",
    "RideShare.drop_duplicates(inplace=True)"
   ]
  },
  {
   "cell_type": "markdown",
   "id": "ea41ca91",
   "metadata": {},
   "source": [
    "## Key Metrics"
   ]
  },
  {
   "cell_type": "code",
   "execution_count": 9,
   "id": "e0d0e60d",
   "metadata": {},
   "outputs": [
    {
     "name": "stdout",
     "output_type": "stream",
     "text": [
      "The total revenue is: 600938.35\n"
     ]
    }
   ],
   "source": [
    "# Total Revenue (Sum of Fare Amount)\n",
    "TotalRevenue = RideShare[\"Fare Amount\"].sum().round(2)\n",
    "print(\"The total revenue is:\",TotalRevenue)"
   ]
  },
  {
   "cell_type": "code",
   "execution_count": 10,
   "id": "336fde4f",
   "metadata": {},
   "outputs": [
    {
     "name": "stdout",
     "output_type": "stream",
     "text": [
      "The average customer rating is: 3.73\n"
     ]
    }
   ],
   "source": [
    "# Average Customer Rating\n",
    "AvgCustomerRating = RideShare[\"User Rating\"].mean().round(2)\n",
    "print(\"The average customer rating is:\", AvgCustomerRating)"
   ]
  },
  {
   "cell_type": "code",
   "execution_count": 11,
   "id": "d36a93e7",
   "metadata": {},
   "outputs": [
    {
     "name": "stdout",
     "output_type": "stream",
     "text": [
      "The average ride duration is: 54.03 minutes\n"
     ]
    }
   ],
   "source": [
    "# Average Ride Duration (min)\n",
    "AvgRideDuration = RideShare[\"Ride Duration(min)\"].mean().round(2)\n",
    "print(\"The average ride duration is:\", AvgRideDuration, \"minutes\")"
   ]
  },
  {
   "cell_type": "code",
   "execution_count": 12,
   "id": "24991e79",
   "metadata": {},
   "outputs": [
    {
     "name": "stdout",
     "output_type": "stream",
     "text": [
      "The no-show rate is: 5.0 %\n"
     ]
    }
   ],
   "source": [
    "# No-Show Rate (%)\n",
    "NoShowRate = (RideShare[\"Ride Status\"]==\"No-show\").mean().round(2)*100\n",
    "print(\"The no-show rate is:\", NoShowRate, \"%\")"
   ]
  },
  {
   "cell_type": "code",
   "execution_count": 13,
   "id": "1b797334",
   "metadata": {},
   "outputs": [
    {
     "name": "stdout",
     "output_type": "stream",
     "text": [
      "The total rides completed is: 8495\n"
     ]
    }
   ],
   "source": [
    "# Total Rides Completed\n",
    "TotalRidesCompleed = (RideShare[\"Ride Status\"]==\"Completed\").sum()\n",
    "print(\"The total rides completed is:\", TotalRidesCompleed)"
   ]
  },
  {
   "cell_type": "markdown",
   "id": "df686349",
   "metadata": {},
   "source": [
    "## Exploratory Data Analysis"
   ]
  },
  {
   "cell_type": "markdown",
   "id": "0868ab0c",
   "metadata": {},
   "source": [
    "### Customer Behavior & Preferences"
   ]
  },
  {
   "cell_type": "code",
   "execution_count": 14,
   "id": "86eba2ef",
   "metadata": {},
   "outputs": [
    {
     "name": "stdout",
     "output_type": "stream",
     "text": [
      "The most popular pickup locations are:\n",
      " Pickup Location\n",
      "Suburbs    1487\n",
      "Mall       1459\n",
      "Midtown    1425\n",
      "Name: count, dtype: int64\n",
      "\n",
      "The most popular drop-off locations are:\n",
      " Dropoff Location\n",
      "Financial District    1552\n",
      "Mall                  1446\n",
      "Airport               1437\n",
      "Name: count, dtype: int64\n"
     ]
    }
   ],
   "source": [
    "# What are the most popular pickup and drop-off locations?\n",
    "PopularPickupSpots = RideShare[\"Pickup Location\"].value_counts().head(3)\n",
    "PopularDropoffSpots = RideShare[\"Dropoff Location\"].value_counts().head(3)\n",
    "print(\"The most popular pickup locations are:\\n\", PopularPickupSpots)\n",
    "print(\"\\nThe most popular drop-off locations are:\\n\", PopularDropoffSpots)"
   ]
  },
  {
   "cell_type": "code",
   "execution_count": 15,
   "id": "9e2a3b0b",
   "metadata": {},
   "outputs": [
    {
     "data": {
      "image/png": "[encoded data removed]",
      "text/plain": [
       "<Figure size 1000x700 with 2 Axes>"
      ]
     },
     "metadata": {},
     "output_type": "display_data"
    }
   ],
   "source": [
    "# Using heatmap to show the Top Pickup & Drop-Off Locations\n",
    "\n",
    "# 1. Create the Route Frequency Matrix (Co-occurrence Table)\n",
    "# This groups by the pair of locations and counts the frequency.\n",
    "RouteMatrix = (\n",
    "    RideShare.groupby([\"Pickup Location\", \"Dropoff Location\"])\n",
    "    .size()\n",
    "    .unstack(fill_value=0) # Pivots Dropoff Location to columns, filling missing routes with 0\n",
    ")\n",
    "\n",
    "# 2. Identify and Filter for the Top 3 Locations\n",
    "# This keeps the heatmap focused on the highest-demand areas for better readability.\n",
    "Top3Locs = (\n",
    "    pd.concat([RideShare[\"Pickup Location\"], RideShare[\"Dropoff Location\"]])\n",
    "    .value_counts()\n",
    "    .head(3)\n",
    "    .index\n",
    ")\n",
    "\n",
    "# Filter the matrix to only include the top 3 locations on both axes\n",
    "TopRoutes = RouteMatrix.loc[RouteMatrix.index.intersection(Top3Locs), RouteMatrix.columns.intersection(Top3Locs)]\n",
    "\n",
    "# 3. Generate the Heatmap\n",
    "plt.figure(figsize=(10, 7))\n",
    "sns.heatmap(\n",
    "    TopRoutes, \n",
    "    annot=True, \n",
    "    fmt=\"d\",\n",
    "    cmap=\"YlGnBu\", \n",
    "    linewidths=.5, \n",
    "    linecolor=\"black\",\n",
    "    cbar_kws={\"label\": \"Number of Rides\"}\n",
    ")\n",
    "plt.title(\"Ride Frequency Between Top 3 Locations\", fontsize=17, fontweight=\"bold\")\n",
    "plt.ylabel(\"Pickup Location\", fontweight=\"bold\")\n",
    "plt.xlabel(\"Dropoff Location\", fontweight=\"bold\")\n",
    "plt.tight_layout()\n",
    "plt.show()"
   ]
  },
  {
   "cell_type": "code",
   "execution_count": 16,
   "id": "52c86071",
   "metadata": {},
   "outputs": [
    {
     "name": "stdout",
     "output_type": "stream",
     "text": [
      "Weekday Rides: 8560\n",
      "Weekend Rides: 1440\n"
     ]
    }
   ],
   "source": [
    "# Extracting the day of the week from the Ride DateTime Column\n",
    "RideShare[\"Day of Week\"] = RideShare[\"Ride DateTime\"].dt.day_name()\n",
    "\n",
    "# How do weekends vs. weekdays impact ride demand?\n",
    "WeekdayRides = RideShare[RideShare[\"Day of Week\"].isin([\"Monday\", \"Tuesday\", \"Wednesday\", \"Thursday\", \"Friday\"])]\n",
    "WeekendRides = RideShare[RideShare[\"Day of Week\"].isin([\"Saturday\", \"Sunday\"])]\n",
    "\n",
    "# Analyzing the number of rides\n",
    "print(\"Weekday Rides:\", WeekdayRides.shape[0])\n",
    "print(\"Weekend Rides:\", WeekendRides.shape[0])"
   ]
  },
  {
   "cell_type": "code",
   "execution_count": 17,
   "id": "14e99691",
   "metadata": {},
   "outputs": [
    {
     "data": {
      "image/png": "[encoded data removed]",
      "text/plain": [
       "<Figure size 1400x700 with 2 Axes>"
      ]
     },
     "metadata": {},
     "output_type": "display_data"
    }
   ],
   "source": [
    "# Ride Demand by Time of Day & Day of Week (Bar Chart)\n",
    "plt.figure(figsize=(14, 7))\n",
    "\n",
    "# Subplot 1: Ride Demand by Time of Day\n",
    "plt.subplot(1, 2, 1)\n",
    "RideShare[\"Hour\"] = RideShare[\"Ride DateTime\"].dt.hour\n",
    "sns.countplot(data=RideShare, x=\"Hour\", hue=\"Day of Week\", order=range(24))\n",
    "plt.title(\"Ride Demand by Time of Day\", fontsize=17, fontweight=\"bold\")\n",
    "plt.xlabel(\"Hour of Day\", fontweight=\"bold\")\n",
    "plt.ylabel(\"Number of Rides\", fontweight=\"bold\")\n",
    "plt.legend(title=\"Day of Week\", bbox_to_anchor=(1, 1), loc=\"upper left\")\n",
    "\n",
    "# Subplot 2: Ride Demand by Day of Week\n",
    "plt.subplot(1, 2, 2)\n",
    "sns.countplot(data=RideShare, x=\"Day of Week\", hue=\"Day of Week\", order=[\"Monday\", \"Tuesday\", \"Wednesday\", \"Thursday\", \"Friday\", \"Saturday\", \"Sunday\"])\n",
    "plt.title(\"Ride Demand by Day of Week\", fontsize=17, fontweight=\"bold\")\n",
    "plt.xlabel(\"Day of Week\", fontweight=\"bold\")\n",
    "plt.ylabel(\"Number of Rides\", fontweight=\"bold\")\n",
    "\n",
    "plt.tight_layout()\n",
    "plt.show()"
   ]
  },
  {
   "cell_type": "code",
   "execution_count": 18,
   "id": "44a4161a",
   "metadata": {},
   "outputs": [
    {
     "name": "stdout",
     "output_type": "stream",
     "text": [
      "Vehicle type preference:\n",
      " Vehicle Type\n",
      "Sedan         3964\n",
      "SUV           3049\n",
      "Shared        1032\n",
      "Motorcycle     984\n",
      "Electric       971\n",
      "Name: count, dtype: int64\n"
     ]
    }
   ],
   "source": [
    "# Which vehicle types (SUV, Sedan, Motorcycle, Electric) are most preferred?\n",
    "VehiclePreference = RideShare[\"Vehicle Type\"].value_counts()\n",
    "print(\"Vehicle type preference:\\n\", VehiclePreference)"
   ]
  },
  {
   "cell_type": "code",
   "execution_count": 19,
   "id": "2106505f",
   "metadata": {},
   "outputs": [
    {
     "data": {
      "image/png": "[encoded data removed]",
      "text/plain": [
       "<Figure size 800x500 with 1 Axes>"
      ]
     },
     "metadata": {},
     "output_type": "display_data"
    }
   ],
   "source": [
    "# Using bar chart to show vehicle type preference\n",
    "plt.figure(figsize=(8,5))\n",
    "sns.countplot(\n",
    "    data=RideShare,\n",
    "    x=\"Vehicle Type\"\n",
    ")\n",
    "plt.title(\"Vehicle type Preference\", fontsize=17, fontweight=\"bold\")\n",
    "plt.xlabel(\"Vehicle Type\", fontweight=\"bold\")\n",
    "plt.ylabel(\"Number of Rides\", fontweight=\"bold\")\n",
    "\n",
    "plt.show()"
   ]
  },
  {
   "cell_type": "markdown",
   "id": "458697c3",
   "metadata": {},
   "source": [
    "### Driver Performance & Efficiency"
   ]
  },
  {
   "cell_type": "code",
   "execution_count": 20,
   "id": "7a68f409",
   "metadata": {},
   "outputs": [
    {
     "name": "stdout",
     "output_type": "stream",
     "text": [
      "Top 5 Drivers:\n",
      " Driver ID\n",
      "D547    4.75\n",
      "D171    4.54\n",
      "D785    4.51\n",
      "D439    4.50\n",
      "D766    4.47\n",
      "Name: Driver Rating, dtype: float64\n",
      "Bottom 5 Drivers:\n",
      " Driver ID\n",
      "D780    2.67\n",
      "D781    2.68\n",
      "D811    2.81\n",
      "D814    2.83\n",
      "D212    2.96\n",
      "Name: Driver Rating, dtype: float64\n"
     ]
    }
   ],
   "source": [
    "#  Which drivers have the highest and lowest ratings?\n",
    "DriverRatings = RideShare.groupby(\"Driver ID\")[\"Driver Rating\"].mean().round(2)\n",
    "\n",
    "Top5Drivers = DriverRatings.sort_values(ascending=False).head(5)\n",
    "\n",
    "# Bottom 5 Drivers with lowest ratings\n",
    "Bottom5Drivers = DriverRatings.sort_values(ascending=True).head(5)\n",
    "\n",
    "print(\"Top 5 Drivers:\\n\", Top5Drivers)\n",
    "print(\"Bottom 5 Drivers:\\n\", Bottom5Drivers)"
   ]
  },
  {
   "cell_type": "code",
   "execution_count": 21,
   "id": "1e74e40e",
   "metadata": {},
   "outputs": [
    {
     "name": "stdout",
     "output_type": "stream",
     "text": [
      "--- Driver Experience Impact Summary ---\n",
      "| Experience Tier   |   DriverCount |   AvgCompletionRate |   AvgUserRating |\n",
      "|:------------------|--------------:|--------------------:|----------------:|\n",
      "| Low Experience    |            24 |               0.874 |           3.861 |\n",
      "| Medium Experience |           379 |               0.857 |           3.763 |\n",
      "| High Experience   |           449 |               0.846 |           3.721 |\n"
     ]
    },
    {
     "name": "stderr",
     "output_type": "stream",
     "text": [
      "C:\\Users\\USER\\AppData\\Local\\Temp\\ipykernel_9560\\1936980057.py:30: FutureWarning: The default of observed=False is deprecated and will be changed to True in a future version of pandas. Pass observed=False to retain current behavior or observed=True to adopt the future default and silence this warning.\n",
      "  ExperienceImpact = DriverExperience.groupby(\"Experience Tier\").agg(\n"
     ]
    }
   ],
   "source": [
    "# How does driver experience impact ride completion rates and customer ratings?\n",
    "\n",
    "# Base Aggregation\n",
    "DriverExperience = RideShare.groupby(\"Driver ID\").agg(\n",
    "    TotalRides=(\"Ride Status\", \"count\"),\n",
    "    CompletedRides=(\"Ride Status\", lambda x: (x == \"Completed\").sum()),\n",
    "    AvgCustomerRating=(\"User Rating\", \"mean\")\n",
    ").round(2)\n",
    "\n",
    "# Add the key performance metric (Completion Rate)\n",
    "DriverExperience[\"Completion Rate\"] = (\n",
    "    DriverExperience[\"CompletedRides\"] / DriverExperience[\"TotalRides\"]\n",
    ").round(3) \n",
    "\n",
    "# Define the Tiers (Adjusted for max rides = 15)\n",
    "bins = [0, 5, 10, 16] \n",
    "labels = ['Low Experience', 'Medium Experience', 'High Experience']\n",
    "\n",
    "DriverExperience[\"Experience Tier\"] = pd.cut(\n",
    "    DriverExperience[\"TotalRides\"], \n",
    "    bins=bins, \n",
    "    labels=labels, \n",
    "    right=True\n",
    ")\n",
    "\n",
    "# Convert the 'Driver ID' index back into a column\n",
    "DriverExperience = DriverExperience.reset_index()\n",
    "\n",
    "# Analyze Impact (Group by the new tier)\n",
    "ExperienceImpact = DriverExperience.groupby(\"Experience Tier\").agg(\n",
    "    DriverCount=(\"Driver ID\", \"count\"),\n",
    "    AvgCompletionRate=(\"Completion Rate\", \"mean\"),\n",
    "    AvgUserRating=(\"AvgCustomerRating\", \"mean\")\n",
    ").round(3)\n",
    "\n",
    "print(\"--- Driver Experience Impact Summary ---\")\n",
    "print(ExperienceImpact.to_markdown(index=True))"
   ]
  },
  {
   "cell_type": "code",
   "execution_count": 22,
   "id": "c37a45c5",
   "metadata": {},
   "outputs": [
    {
     "data": {
      "text/plain": [
       "Traffic Level\n",
       "High      53.11\n",
       "Low       54.59\n",
       "Medium    54.07\n",
       "Name: Ride Duration(min), dtype: float64"
      ]
     },
     "execution_count": 22,
     "metadata": {},
     "output_type": "execute_result"
    }
   ],
   "source": [
    "# What is the average ride duration per driver, and how does it vary by traffic?\n",
    "AvgRideDurationByTraffic = RideShare.groupby(\"Traffic Level\")[\"Ride Duration(min)\"].mean().round(2)\n",
    "AvgRideDurationByTraffic"
   ]
  },
  {
   "cell_type": "markdown",
   "id": "f2769f91",
   "metadata": {},
   "source": [
    "### Operational & Financial Insights"
   ]
  },
  {
   "cell_type": "code",
   "execution_count": 24,
   "id": "fad3cbd6",
   "metadata": {},
   "outputs": [
    {
     "data": {
      "text/plain": [
       "Vehicle Type\n",
       "Electric      61.18\n",
       "Motorcycle    59.84\n",
       "SUV           59.88\n",
       "Sedan         60.05\n",
       "Shared        60.11\n",
       "Name: Fare Amount, dtype: float64"
      ]
     },
     "execution_count": 24,
     "metadata": {},
     "output_type": "execute_result"
    }
   ],
   "source": [
    "# What is the average fare amount per ride type?\n",
    "AvgFareByRideType = RideShare.groupby(\"Vehicle Type\")[\"Fare Amount\"].mean().round(2)\n",
    "AvgFareByRideType"
   ]
  },
  {
   "cell_type": "code",
   "execution_count": 27,
   "id": "11f21ddd",
   "metadata": {},
   "outputs": [
    {
     "data": {
      "text/html": [
       "<div>\n",
       "<style scoped>\n",
       "    .dataframe tbody tr th:only-of-type {\n",
       "        vertical-align: middle;\n",
       "    }\n",
       "\n",
       "    .dataframe tbody tr th {\n",
       "        vertical-align: top;\n",
       "    }\n",
       "\n",
       "    .dataframe thead th {\n",
       "        text-align: right;\n",
       "    }\n",
       "</style>\n",
       "<table border=\"1\" class=\"dataframe\">\n",
       "  <thead>\n",
       "    <tr style=\"text-align: right;\">\n",
       "      <th></th>\n",
       "      <th>AvgFare</th>\n",
       "      <th>TotalRevenue</th>\n",
       "      <th>RideCount</th>\n",
       "    </tr>\n",
       "    <tr>\n",
       "      <th>Surge Pricing</th>\n",
       "      <th></th>\n",
       "      <th></th>\n",
       "      <th></th>\n",
       "    </tr>\n",
       "  </thead>\n",
       "  <tbody>\n",
       "    <tr>\n",
       "      <th>No</th>\n",
       "      <td>60.00</td>\n",
       "      <td>480566.48</td>\n",
       "      <td>8009</td>\n",
       "    </tr>\n",
       "    <tr>\n",
       "      <th>Yes</th>\n",
       "      <td>60.46</td>\n",
       "      <td>120371.87</td>\n",
       "      <td>1991</td>\n",
       "    </tr>\n",
       "  </tbody>\n",
       "</table>\n",
       "</div>"
      ],
      "text/plain": [
       "               AvgFare  TotalRevenue  RideCount\n",
       "Surge Pricing                                  \n",
       "No               60.00     480566.48       8009\n",
       "Yes              60.46     120371.87       1991"
      ]
     },
     "execution_count": 27,
     "metadata": {},
     "output_type": "execute_result"
    }
   ],
   "source": [
    "# How does surge pricing affect ride fare and total revenue?\n",
    "SurgeImpact = RideShare.groupby(\"Surge Pricing\").agg(\n",
    "    AvgFare=(\"Fare Amount\", \"mean\"),\n",
    "    TotalRevenue=(\"Fare Amount\", \"sum\"),\n",
    "    RideCount=(\"Fare Amount\", \"count\")\n",
    ").round(2)\n",
    "\n",
    "SurgeImpact"
   ]
  },
  {
   "cell_type": "code",
   "execution_count": 31,
   "id": "f72dc0ea",
   "metadata": {},
   "outputs": [
    {
     "data": {
      "image/png": "[encoded data removed]",
      "text/plain": [
       "<Figure size 800x500 with 1 Axes>"
      ]
     },
     "metadata": {},
     "output_type": "display_data"
    }
   ],
   "source": [
    "# Create the box plot\n",
    "plt.figure(figsize=(8, 5))\n",
    "sns.boxplot(\n",
    "    data=RideShare, \n",
    "    x=\"Surge Pricing\", \n",
    "    y=\"Fare Amount\", \n",
    "    hue=\"Surge Pricing\"\n",
    ")\n",
    "\n",
    "# Add titles and labels\n",
    "plt.title(\"Distribution of Fare Amount by Surge Pricing\", fontsize=16, fontweight='bold')\n",
    "plt.xlabel(\"Surge Pricing Applied\", fontsize=12)\n",
    "plt.ylabel(\"Fare Amount ($)\", fontsize=12)\n",
    "\n",
    "# Enhance the visualization\n",
    "plt.grid(axis='y', linestyle='--', alpha=0.7)\n",
    "plt.tight_layout()\n",
    "plt.show()"
   ]
  },
  {
   "cell_type": "code",
   "execution_count": 33,
   "id": "066ff76f",
   "metadata": {},
   "outputs": [
    {
     "data": {
      "text/plain": [
       "Payment Method\n",
       "Credit Card      0.4946\n",
       "Cash             0.3028\n",
       "Mobile Wallet    0.2026\n",
       "Name: proportion, dtype: float64"
      ]
     },
     "execution_count": 33,
     "metadata": {},
     "output_type": "execute_result"
    }
   ],
   "source": [
    "# Which payment methods are most commonly used?\n",
    "PaymentMethodCounts = RideShare[\"Payment Method\"].value_counts(normalize=True)\n",
    "PaymentMethodCounts"
   ]
  },
  {
   "cell_type": "markdown",
   "id": "5da2a013",
   "metadata": {},
   "source": [
    "### External Factors Impacting Rides"
   ]
  },
  {
   "cell_type": "code",
   "execution_count": 37,
   "id": "af515242",
   "metadata": {},
   "outputs": [
    {
     "data": {
      "text/html": [
       "<div>\n",
       "<style scoped>\n",
       "    .dataframe tbody tr th:only-of-type {\n",
       "        vertical-align: middle;\n",
       "    }\n",
       "\n",
       "    .dataframe tbody tr th {\n",
       "        vertical-align: top;\n",
       "    }\n",
       "\n",
       "    .dataframe thead th {\n",
       "        text-align: right;\n",
       "    }\n",
       "</style>\n",
       "<table border=\"1\" class=\"dataframe\">\n",
       "  <thead>\n",
       "    <tr style=\"text-align: right;\">\n",
       "      <th></th>\n",
       "      <th>AvgDuration</th>\n",
       "      <th>AvgRating</th>\n",
       "      <th>RideCount</th>\n",
       "    </tr>\n",
       "    <tr>\n",
       "      <th>Weather Condition</th>\n",
       "      <th></th>\n",
       "      <th></th>\n",
       "      <th></th>\n",
       "    </tr>\n",
       "  </thead>\n",
       "  <tbody>\n",
       "    <tr>\n",
       "      <th>Clear</th>\n",
       "      <td>54.17</td>\n",
       "      <td>3.74</td>\n",
       "      <td>6042</td>\n",
       "    </tr>\n",
       "    <tr>\n",
       "      <th>Foggy</th>\n",
       "      <td>53.49</td>\n",
       "      <td>3.70</td>\n",
       "      <td>1004</td>\n",
       "    </tr>\n",
       "    <tr>\n",
       "      <th>Rainy</th>\n",
       "      <td>53.72</td>\n",
       "      <td>3.76</td>\n",
       "      <td>1985</td>\n",
       "    </tr>\n",
       "    <tr>\n",
       "      <th>Snowy</th>\n",
       "      <td>52.84</td>\n",
       "      <td>3.73</td>\n",
       "      <td>497</td>\n",
       "    </tr>\n",
       "    <tr>\n",
       "      <th>Thunderstorm</th>\n",
       "      <td>55.94</td>\n",
       "      <td>3.66</td>\n",
       "      <td>472</td>\n",
       "    </tr>\n",
       "  </tbody>\n",
       "</table>\n",
       "</div>"
      ],
      "text/plain": [
       "                   AvgDuration  AvgRating  RideCount\n",
       "Weather Condition                                   \n",
       "Clear                    54.17       3.74       6042\n",
       "Foggy                    53.49       3.70       1004\n",
       "Rainy                    53.72       3.76       1985\n",
       "Snowy                    52.84       3.73        497\n",
       "Thunderstorm             55.94       3.66        472"
      ]
     },
     "execution_count": 37,
     "metadata": {},
     "output_type": "execute_result"
    }
   ],
   "source": [
    "# How does weather condition (Rainy, Snowy, Foggy) impact ride duration and customer ratings?\n",
    "WeatherImpact = RideShare.groupby(\"Weather Condition\").agg(\n",
    "    AvgDuration=(\"Ride Duration(min)\", \"mean\"),\n",
    "    AvgRating=(\"User Rating\", \"mean\"),\n",
    "    RideCount=(\"Ride ID\", \"count\")\n",
    ").round(2)\n",
    "\n",
    "WeatherImpact"
   ]
  },
  {
   "cell_type": "code",
   "execution_count": 38,
   "id": "a99777b7",
   "metadata": {},
   "outputs": [
    {
     "data": {
      "text/html": [
       "<div>\n",
       "<style scoped>\n",
       "    .dataframe tbody tr th:only-of-type {\n",
       "        vertical-align: middle;\n",
       "    }\n",
       "\n",
       "    .dataframe tbody tr th {\n",
       "        vertical-align: top;\n",
       "    }\n",
       "\n",
       "    .dataframe thead th {\n",
       "        text-align: right;\n",
       "    }\n",
       "</style>\n",
       "<table border=\"1\" class=\"dataframe\">\n",
       "  <thead>\n",
       "    <tr style=\"text-align: right;\">\n",
       "      <th></th>\n",
       "      <th>AvgDuration</th>\n",
       "      <th>AvgFare</th>\n",
       "      <th>RideCount</th>\n",
       "    </tr>\n",
       "    <tr>\n",
       "      <th>Traffic Level</th>\n",
       "      <th></th>\n",
       "      <th></th>\n",
       "      <th></th>\n",
       "    </tr>\n",
       "  </thead>\n",
       "  <tbody>\n",
       "    <tr>\n",
       "      <th>High</th>\n",
       "      <td>53.11</td>\n",
       "      <td>59.58</td>\n",
       "      <td>1998</td>\n",
       "    </tr>\n",
       "    <tr>\n",
       "      <th>Low</th>\n",
       "      <td>54.59</td>\n",
       "      <td>60.51</td>\n",
       "      <td>2972</td>\n",
       "    </tr>\n",
       "    <tr>\n",
       "      <th>Medium</th>\n",
       "      <td>54.07</td>\n",
       "      <td>60.05</td>\n",
       "      <td>5030</td>\n",
       "    </tr>\n",
       "  </tbody>\n",
       "</table>\n",
       "</div>"
      ],
      "text/plain": [
       "               AvgDuration  AvgFare  RideCount\n",
       "Traffic Level                                 \n",
       "High                 53.11    59.58       1998\n",
       "Low                  54.59    60.51       2972\n",
       "Medium               54.07    60.05       5030"
      ]
     },
     "execution_count": 38,
     "metadata": {},
     "output_type": "execute_result"
    }
   ],
   "source": [
    "# What is the effect of traffic level (Low, Medium, High) on ride duration and fare amounts?\n",
    "TrafficImpact = RideShare.groupby(\"Traffic Level\").agg(\n",
    "    AvgDuration=(\"Ride Duration(min)\", \"mean\"),\n",
    "    AvgFare=(\"Fare Amount\", \"mean\"),\n",
    "    RideCount=(\"Ride ID\", \"count\")\n",
    ").round(2)\n",
    "\n",
    "TrafficImpact"
   ]
  },
  {
   "cell_type": "code",
   "execution_count": null,
   "id": "e5b3bb24",
   "metadata": {},
   "outputs": [],
   "source": []
  }
 ],
 "metadata": {
  "kernelspec": {
   "display_name": "Python 3",
   "language": "python",
   "name": "python3"
  },
  "language_info": {
   "codemirror_mode": {
    "name": "ipython",
    "version": 3
   },
   "file_extension": ".py",
   "mimetype": "text/x-python",
   "name": "python",
   "nbconvert_exporter": "python",
   "pygments_lexer": "ipython3",
   "version": "3.11.9"
  }
 },
 "nbformat": 4,
 "nbformat_minor": 5
}
